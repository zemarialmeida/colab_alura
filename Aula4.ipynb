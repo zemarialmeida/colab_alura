{
  "nbformat": 4,
  "nbformat_minor": 0,
  "metadata": {
    "colab": {
      "provenance": [],
      "authorship_tag": "ABX9TyP6J4hOljQD6F6Qv+qrs4em",
      "include_colab_link": true
    },
    "kernelspec": {
      "name": "python3",
      "display_name": "Python 3"
    },
    "language_info": {
      "name": "python"
    }
  },
  "cells": [
    {
      "cell_type": "markdown",
      "metadata": {
        "id": "view-in-github",
        "colab_type": "text"
      },
      "source": [
        "<a href=\"https://colab.research.google.com/github/zemarialmeida/colab_alura/blob/main/Aula4.ipynb\" target=\"_parent\"><img src=\"https://colab.research.google.com/assets/colab-badge.svg\" alt=\"Open In Colab\"/></a>"
      ]
    },
    {
      "cell_type": "code",
      "execution_count": 1,
      "metadata": {
        "id": "VDByQrq_m4ps"
      },
      "outputs": [],
      "source": [
        "#Instalando o SDK do Google\n",
        "!pip install -q -U google-generativeai"
      ]
    },
    {
      "cell_type": "code",
      "source": [
        "#Configurações iniciais\n",
        "import google.generativeai as genai\n",
        "from google.colab import userdata\n",
        "API_KEY = userdata.get(\"SECREAT_KEY\")\n",
        "genai.configure(api_key=API_KEY)"
      ],
      "metadata": {
        "id": "5gqlkiw3nJq2"
      },
      "execution_count": 2,
      "outputs": []
    },
    {
      "cell_type": "code",
      "source": [
        "#Listando os modelos disponíveis\n",
        "for m in genai.list_models():\n",
        "  if 'generateContent' in m.supported_generation_methods:\n",
        "    print(m.name)"
      ],
      "metadata": {
        "colab": {
          "base_uri": "https://localhost:8080/",
          "height": 139
        },
        "id": "_7tgfiqknMNe",
        "outputId": "4cbed653-39fc-4775-dec6-fe425f93a8ca"
      },
      "execution_count": 3,
      "outputs": [
        {
          "output_type": "stream",
          "name": "stdout",
          "text": [
            "models/gemini-1.0-pro\n",
            "models/gemini-1.0-pro-001\n",
            "models/gemini-1.0-pro-latest\n",
            "models/gemini-1.0-pro-vision-latest\n",
            "models/gemini-1.5-pro-latest\n",
            "models/gemini-pro\n",
            "models/gemini-pro-vision\n"
          ]
        }
      ]
    },
    {
      "cell_type": "code",
      "source": [
        "generation_config = {\n",
        "  \"candidate_count\": 1,\n",
        "  \"temperature\": 0.5,\n",
        "}"
      ],
      "metadata": {
        "id": "0r3uC-mKnPbm"
      },
      "execution_count": 4,
      "outputs": []
    },
    {
      "cell_type": "code",
      "source": [
        "safety_settings={\n",
        "    'HATE': 'BLOCK_NONE',\n",
        "    'HARASSMENT': 'BLOCK_NONE',\n",
        "    'SEXUAL' : 'BLOCK_NONE',\n",
        "    'DANGEROUS' : 'BLOCK_NONE'\n",
        "    }"
      ],
      "metadata": {
        "id": "hW7uWhhMnR_W"
      },
      "execution_count": 5,
      "outputs": []
    },
    {
      "cell_type": "code",
      "source": [
        "model = genai.GenerativeModel(model_name='gemini-1.0-pro',\n",
        "                                  generation_config=generation_config,\n",
        "                                  safety_settings=safety_settings,)"
      ],
      "metadata": {
        "id": "lD-xgHX6nUdG"
      },
      "execution_count": 6,
      "outputs": []
    },
    {
      "cell_type": "code",
      "source": [
        "response = model.generate_content(\"Que empresa criou o modelo de IA Gemini?\")\n",
        "response.text"
      ],
      "metadata": {
        "colab": {
          "base_uri": "https://localhost:8080/",
          "height": 35
        },
        "id": "IX3yj0OgnXR1",
        "outputId": "e4372429-1cda-4e6e-e81d-55a3fd9c95d8"
      },
      "execution_count": 7,
      "outputs": [
        {
          "output_type": "execute_result",
          "data": {
            "text/plain": [
              "'Google'"
            ],
            "application/vnd.google.colaboratory.intrinsic+json": {
              "type": "string"
            }
          },
          "metadata": {},
          "execution_count": 7
        }
      ]
    },
    {
      "cell_type": "code",
      "source": [
        "chat = model.start_chat(history=[])\n",
        "\n",
        "prompt = input('Esperando prompt: ')\n",
        "\n",
        "while prompt != \"fim\":\n",
        "  response = chat.send_message(prompt)\n",
        "  print(\"Resposta:\", response.text, '\\n\\n')\n",
        "  prompt = input('Esperando prompt: ')"
      ],
      "metadata": {
        "colab": {
          "base_uri": "https://localhost:8080/",
          "height": 766
        },
        "id": "ezHzQiMAncjF",
        "outputId": "6b443712-8444-4eef-d215-6c39557c6761"
      },
      "execution_count": 8,
      "outputs": [
        {
          "name": "stdout",
          "output_type": "stream",
          "text": [
            "Esperando prompt: FIM\n",
            "Resposta: **FIM**\n",
            "\n",
            "**Full Information Maximum Likelihood (FIML)**\n",
            "\n",
            "**Definition:**\n",
            "\n",
            "FIML is a statistical method used in structural equation modeling (SEM) to estimate model parameters when there is missing data. It assumes that the missing data is missing at random (MAR) or missing completely at random (MCAR).\n",
            "\n",
            "**How it Works:**\n",
            "\n",
            "FIML maximizes the likelihood function of the observed data under the assumption that the missing data is MAR or MCAR. This means that the likelihood function is calculated using all of the observed data, including the missing values, which are imputed using the model's estimated parameters.\n",
            "\n",
            "**Advantages:**\n",
            "\n",
            "* **Efficient:** FIML provides unbiased and efficient parameter estimates even when there is a large amount of missing data.\n",
            "* **Robust:** FIML is robust to violations of the MAR or MCAR assumptions, to some extent.\n",
            "* **Handles complex models:** FIML can be used to estimate complex SEM models with multiple latent variables and measurement indicators.\n",
            "\n",
            "**Disadvantages:**\n",
            "\n",
            "* **Computationally intensive:** FIML can be computationally intensive, especially for large models or datasets with a high percentage of missing data.\n",
            "* **May not be suitable for all types of missing data:** FIML assumes that the missing data is MAR or MCAR, which may not always be the case.\n",
            "* **Can produce biased estimates:** FIML estimates can be biased if the missing data mechanism is not MAR or MCAR.\n",
            "\n",
            "**Alternatives to FIML:**\n",
            "\n",
            "* **Multiple Imputation:** Imputing missing values multiple times and estimating model parameters separately for each imputed dataset.\n",
            "* **Weighted Least Squares Estimation (WLSMV):** Estimating model parameters using a weighted least squares approach that takes into account the missing data pattern.\n",
            "* **Expectation-Maximization (EM):** An iterative algorithm that alternates between imputing missing values and estimating model parameters.\n",
            "\n",
            "**Applications:**\n",
            "\n",
            "FIML is commonly used in SEM to handle missing data in various research fields, such as:\n",
            "\n",
            "* Psychology\n",
            "* Education\n",
            "* Business\n",
            "* Health sciences \n",
            "\n",
            "\n",
            "Esperando prompt: fim\n"
          ]
        }
      ]
    },
    {
      "cell_type": "code",
      "source": [
        "chat.history"
      ],
      "metadata": {
        "colab": {
          "base_uri": "https://localhost:8080/"
        },
        "id": "ixn3Wsjsndnt",
        "outputId": "e455aed8-9011-4156-d566-54d3bf58d107"
      },
      "execution_count": 9,
      "outputs": [
        {
          "output_type": "execute_result",
          "data": {
            "text/plain": [
              "[parts {\n",
              "   text: \"FIM\"\n",
              " }\n",
              " role: \"user\",\n",
              " parts {\n",
              "   text: \"**FIM**\\n\\n**Full Information Maximum Likelihood (FIML)**\\n\\n**Definition:**\\n\\nFIML is a statistical method used in structural equation modeling (SEM) to estimate model parameters when there is missing data. It assumes that the missing data is missing at random (MAR) or missing completely at random (MCAR).\\n\\n**How it Works:**\\n\\nFIML maximizes the likelihood function of the observed data under the assumption that the missing data is MAR or MCAR. This means that the likelihood function is calculated using all of the observed data, including the missing values, which are imputed using the model\\'s estimated parameters.\\n\\n**Advantages:**\\n\\n* **Efficient:** FIML provides unbiased and efficient parameter estimates even when there is a large amount of missing data.\\n* **Robust:** FIML is robust to violations of the MAR or MCAR assumptions, to some extent.\\n* **Handles complex models:** FIML can be used to estimate complex SEM models with multiple latent variables and measurement indicators.\\n\\n**Disadvantages:**\\n\\n* **Computationally intensive:** FIML can be computationally intensive, especially for large models or datasets with a high percentage of missing data.\\n* **May not be suitable for all types of missing data:** FIML assumes that the missing data is MAR or MCAR, which may not always be the case.\\n* **Can produce biased estimates:** FIML estimates can be biased if the missing data mechanism is not MAR or MCAR.\\n\\n**Alternatives to FIML:**\\n\\n* **Multiple Imputation:** Imputing missing values multiple times and estimating model parameters separately for each imputed dataset.\\n* **Weighted Least Squares Estimation (WLSMV):** Estimating model parameters using a weighted least squares approach that takes into account the missing data pattern.\\n* **Expectation-Maximization (EM):** An iterative algorithm that alternates between imputing missing values and estimating model parameters.\\n\\n**Applications:**\\n\\nFIML is commonly used in SEM to handle missing data in various research fields, such as:\\n\\n* Psychology\\n* Education\\n* Business\\n* Health sciences\"\n",
              " }\n",
              " role: \"model\"]"
            ]
          },
          "metadata": {},
          "execution_count": 9
        }
      ]
    },
    {
      "cell_type": "code",
      "source": [
        "#Melhorando a visualização\n",
        "#Código disponível em https://ai.google.dev/tutorials/python_quickstart#import_packages\n",
        "import textwrap\n",
        "from IPython.display import display\n",
        "from IPython.display import Markdown\n",
        "\n",
        "def to_markdown(text):\n",
        "  text = text.replace('•', '  *')\n",
        "  return Markdown(textwrap.indent(text, '> ', predicate=lambda _: True))\n",
        "\n",
        "#Imprimindo o histórico\n",
        "for message in chat.history:\n",
        "  display(to_markdown(f'**{message.role}**: {message.parts[0].text}'))\n",
        "  print('-------------------------------------------')"
      ],
      "metadata": {
        "colab": {
          "base_uri": "https://localhost:8080/",
          "height": 713
        },
        "id": "FiVZyrKWniXV",
        "outputId": "02ff3c7c-9c7f-4566-85a5-39955243de95"
      },
      "execution_count": 10,
      "outputs": [
        {
          "output_type": "display_data",
          "data": {
            "text/plain": [
              "<IPython.core.display.Markdown object>"
            ],
            "text/markdown": "> **user**: FIM"
          },
          "metadata": {}
        },
        {
          "output_type": "stream",
          "name": "stdout",
          "text": [
            "-------------------------------------------\n"
          ]
        },
        {
          "output_type": "display_data",
          "data": {
            "text/plain": [
              "<IPython.core.display.Markdown object>"
            ],
            "text/markdown": "> **model**: **FIM**\n> \n> **Full Information Maximum Likelihood (FIML)**\n> \n> **Definition:**\n> \n> FIML is a statistical method used in structural equation modeling (SEM) to estimate model parameters when there is missing data. It assumes that the missing data is missing at random (MAR) or missing completely at random (MCAR).\n> \n> **How it Works:**\n> \n> FIML maximizes the likelihood function of the observed data under the assumption that the missing data is MAR or MCAR. This means that the likelihood function is calculated using all of the observed data, including the missing values, which are imputed using the model's estimated parameters.\n> \n> **Advantages:**\n> \n> * **Efficient:** FIML provides unbiased and efficient parameter estimates even when there is a large amount of missing data.\n> * **Robust:** FIML is robust to violations of the MAR or MCAR assumptions, to some extent.\n> * **Handles complex models:** FIML can be used to estimate complex SEM models with multiple latent variables and measurement indicators.\n> \n> **Disadvantages:**\n> \n> * **Computationally intensive:** FIML can be computationally intensive, especially for large models or datasets with a high percentage of missing data.\n> * **May not be suitable for all types of missing data:** FIML assumes that the missing data is MAR or MCAR, which may not always be the case.\n> * **Can produce biased estimates:** FIML estimates can be biased if the missing data mechanism is not MAR or MCAR.\n> \n> **Alternatives to FIML:**\n> \n> * **Multiple Imputation:** Imputing missing values multiple times and estimating model parameters separately for each imputed dataset.\n> * **Weighted Least Squares Estimation (WLSMV):** Estimating model parameters using a weighted least squares approach that takes into account the missing data pattern.\n> * **Expectation-Maximization (EM):** An iterative algorithm that alternates between imputing missing values and estimating model parameters.\n> \n> **Applications:**\n> \n> FIML is commonly used in SEM to handle missing data in various research fields, such as:\n> \n> * Psychology\n> * Education\n> * Business\n> * Health sciences"
          },
          "metadata": {}
        },
        {
          "output_type": "stream",
          "name": "stdout",
          "text": [
            "-------------------------------------------\n"
          ]
        }
      ]
    }
  ]
}